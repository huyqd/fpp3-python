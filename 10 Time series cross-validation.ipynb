{
 "cells": [
  {
   "cell_type": "markdown",
   "metadata": {},
   "source": [
    "## Time series cross-validation\n",
    "\n",
    "A more sophisticated version of training/test sets is time series cross-validation. In this procedure, there are a series of test sets, each consisting of a single observation. The corresponding training set consists only of observations that occurred prior to the observation that forms the test set. Thus, no future observations can be used in constructing the forecast. Since it is not possible to obtain a reliable forecast based on a small training set, the earliest observations are not considered as test sets.\n",
    "\n",
    "The following diagram illustrates the series of training and test sets, where the blue observations form the training sets, and the orange observations form the test sets.\n",
    "\n",
    "![](Assets/cross-validation.png)\n",
    "\n",
    "The forecast accuracy is computed by averaging over the test sets. This procedure is sometimes known as “evaluation on a rolling forecasting origin” because the “origin” at which the forecast is based rolls forward in time.\n",
    "\n",
    "With time series forecasting, one-step forecasts may not be as relevant as multi-step forecasts. In this case, the cross-validation procedure based on a rolling forecasting origin can be modified to allow multi-step errors to be used. Suppose that we are interested in models that produce good 4-step-ahead forecasts. Then the corresponding diagram is shown below.\n",
    "\n",
    "![](Assets/cross-validation-2.png)\n",
    "\n",
    "\n",
    "In the following example, we compare the accuracy obtained via time series cross-validation with the residual accuracy. In this example, we start with a training set of length .init=3, and increasing the size of successive training sets by .step=1."
   ]
  },
  {
   "cell_type": "code",
   "execution_count": 1,
   "metadata": {},
   "outputs": [],
   "source": [
    "# Import the libraries that we are going to use for the analysis:\n",
    "import random\n",
    "from itertools import product\n",
    "\n",
    "import matplotlib.pyplot as plt\n",
    "import numpy as np\n",
    "import pandas as pd\n",
    "\n",
    "from sklearn import metrics\n",
    "from statsforecast import StatsForecast\n",
    "from statsforecast.models import AutoARIMA\n",
    "from statsforecast.models import Naive"
   ]
  },
  {
   "cell_type": "code",
   "execution_count": 27,
   "metadata": {},
   "outputs": [],
   "source": [
    "# Auxiliar plot functions\n",
    "def plot_cv_indices(cv_indices, total_obs, ax, n_splits, lw=10):\n",
    "    \"\"\"Create a sample plot for indices of a cross-validation object.\"\"\"\n",
    "\n",
    "    colors = {0:'tab:blue', 1:'tab:orange', 2:'tab:gray'}\n",
    "    # Generate the training/testing visualizations for each CV split\n",
    "    for ii, (tr, tt) in enumerate(cv_indices):\n",
    "        # Fill in indices with the training/test groups\n",
    "        indices = np.array([2] * total_obs)\n",
    "        indices[tt] = 1\n",
    "        indices[tr] = 0\n",
    "\n",
    "        # Visualize the results\n",
    "        ax.scatter(\n",
    "            range(len(indices)),\n",
    "            [ii + 0.5] * len(indices),\n",
    "            c=pd.Series(indices).map(colors),\n",
    "            marker=\"_\",\n",
    "            lw=lw,\n",
    "            # cmap=cmap_cv,\n",
    "            vmin=-0.2,\n",
    "            vmax=1.2,\n",
    "        )\n",
    "\n",
    "    # Formatting\n",
    "    yticklabels = list(range(n_splits))\n",
    "    ax.set(\n",
    "        yticks=np.arange(n_splits) + 0.5,\n",
    "        yticklabels=yticklabels,\n",
    "        xlabel=\"Index\",\n",
    "        ylabel=\"CV iteration\",\n",
    "        ylim=[n_splits, -0.2],\n",
    "        xlim=[0, total_obs],\n",
    "    )\n",
    "    ax.set_title(\"Cross-validation splits\", fontsize=15)\n",
    "    return ax\n",
    "\n",
    "def plot_grid(df_train, plot_titles, df_test=None, plot_random=True):\n",
    "    \"\"\"Plots multiple time series.\"\"\"\n",
    "    fig, axes = plt.subplots(4, 2, figsize = (24, 14))\n",
    "\n",
    "    unique_ids = df_train['unique_id'].unique()\n",
    "\n",
    "    assert len(unique_ids) >= 8, \"Must provide at least 8 ts\"\n",
    "    \n",
    "    if plot_random:\n",
    "        unique_ids = random.sample(list(unique_ids), k=8)\n",
    "    else:\n",
    "        unique_uids = unique_ids[:8]\n",
    "\n",
    "    for uid, (idx, idy) in zip(unique_ids, product(range(4), range(2))):\n",
    "        train_uid = df_train.query('unique_id == @uid')\n",
    "        axes[idx, idy].plot(train_uid['ds'], train_uid['y'], label = 'y_train', c='black')\n",
    "        axes[idx, idy].xaxis.set_tick_params(rotation=45)\n",
    "        if df_test is not None:\n",
    "            max_ds = train_uid['ds'].max()\n",
    "            test_uid = df_test.query('unique_id == @uid')\n",
    "            axes[idx, idy].plot(test_uid['ds'], test_uid['y'], c='black', label='True')\n",
    "            axes[idx, idy].plot(test_uid['ds'], test_uid['y_5'], c='blue', alpha=0.3)\n",
    "            axes[idx, idy].plot(test_uid['ds'], test_uid['y_50'], c='blue', label='p50')\n",
    "            axes[idx, idy].plot(test_uid['ds'], test_uid['y_95'], c='blue', alpha=0.3)\n",
    "            axes[idx, idy].fill_between(x=test_uid['ds'],\n",
    "                                        y1=test_uid['y_5'],\n",
    "                                        y2=test_uid['y_95'],\n",
    "                                        alpha=0.2, label='p5-p95')\n",
    "        axes[idx, idy].set_title(f'State: {plot_titles[uid]}')\n",
    "        axes[idx, idy].set_xlabel('Timestamp [t]')\n",
    "        axes[idx, idy].set_ylabel('Target')\n",
    "        axes[idx, idy].legend(loc='upper left')\n",
    "        axes[idx, idy].xaxis.set_major_locator(plt.MaxNLocator(20))\n",
    "        axes[idx, idy].grid()\n",
    "    fig.subplots_adjust(hspace=0.7)\n",
    "    plt.show() "
   ]
  },
  {
   "cell_type": "markdown",
   "metadata": {},
   "source": [
    "*In this procedure there is a series of test sets. The corresponding training sets consist only of observations that ocurred prior to the observations from the test set. Thus, no future observations can be used in constructing the forecast. The following diagram illustrates the series of training and test sets, where the blue observations form the training sets, and the orange observations form the test sets. The forecast accuracy is computed by averaging over the test sets.*"
   ]
  },
  {
   "cell_type": "code",
   "execution_count": 28,
   "metadata": {},
   "outputs": [
    {
     "data": {
      "text/plain": [
       "<AxesSubplot: title={'center': 'Cross-validation splits'}, xlabel='Index', ylabel='CV iteration'>"
      ]
     },
     "execution_count": 28,
     "metadata": {},
     "output_type": "execute_result"
    },
    {
     "data": {
      "image/png": "[encoded data removed]",
      "text/plain": [
       "<Figure size 640x480 with 1 Axes>"
      ]
     },
     "metadata": {},
     "output_type": "display_data"
    }
   ],
   "source": [
    "total_obs = 100\n",
    "nfolds = 10\n",
    "cv_indices =[]\n",
    "\n",
    "for i in range(1, nfolds+1)[::-1]:\n",
    "    cutoff = 100 - i*5\n",
    "    cv_indices.append((np.array(range(cutoff)), np.array(range(cutoff, cutoff+5))))\n",
    "\n",
    "fig, ax = plt.subplots()\n",
    "plot_cv_indices(cv_indices, total_obs, ax, nfolds)"
   ]
  },
  {
   "cell_type": "markdown",
   "metadata": {},
   "source": [
    "### Loading and Exploring Google stock Data:"
   ]
  },
  {
   "cell_type": "code",
   "execution_count": 29,
   "metadata": {},
   "outputs": [],
   "source": [
    "# Create a dataframe from a csv file:\n",
    "google_stock = pd.read_csv(\"Assets/GOOGL.csv\")\n",
    "\n",
    "# Filter the year of interest:\n",
    "google_mask = google_stock[\"Date\"] <= \"2015-12-31\"\n",
    "google_2015 = google_stock[google_mask]\n",
    "\n",
    "# Filter the year of interest:\n",
    "google_mask = google_stock[\"Date\"] > \"2015-12-31\"\n",
    "google_2016 = google_stock[google_mask]\n",
    "\n",
    "# Define a new dataframe with daily close prices and dates:\n",
    "google_train = google_2015[[\"Date\", \"Close\"]]\n",
    "google_test = google_2016[[\"Date\", \"Close\"]]\n",
    "\n",
    "# Rename columns:\n",
    "google_train.columns = [\"ds\", \"y\"]\n",
    "google_test.columns = [\"ds\", \"y\"]\n",
    "\n",
    "# Create a new column in the dataframe, unique_id:\n",
    "google_train[\"unique_id\"] = \"Close price\"\n",
    "google_test[\"unique_id\"] = \"Close price\"\n",
    "\n",
    "# Convert string Date time into Python Date time object:\n",
    "google_train['ds'] = pd.to_datetime(google_train['ds'])\n",
    "google_test['ds'] = pd.to_datetime(google_test['ds'])"
   ]
  },
  {
   "cell_type": "markdown",
   "metadata": {},
   "source": [
    "### Prepare dataset for StatsForecast modelling:"
   ]
  },
  {
   "cell_type": "code",
   "execution_count": 30,
   "metadata": {},
   "outputs": [],
   "source": [
    "# Create a dict maping string values in Quarter to datetime\n",
    "days = google_2015[\"Date\"].sort_values().unique()\n",
    "ds = pd.date_range(start='2015-01-02', periods=len(days), freq='D')\n",
    "ds_quarter = dict(zip(days, ds))"
   ]
  },
  {
   "cell_type": "code",
   "execution_count": 31,
   "metadata": {},
   "outputs": [],
   "source": [
    "# Modelling parameters\n",
    "season_length = 4\n",
    "horizon = 1\n",
    "freq = \"D\"\n",
    "n_windows_cv = 10"
   ]
  },
  {
   "cell_type": "code",
   "execution_count": 32,
   "metadata": {},
   "outputs": [
    {
     "data": {
      "text/html": [
       "<div>\n",
       "<style scoped>\n",
       "    .dataframe tbody tr th:only-of-type {\n",
       "        vertical-align: middle;\n",
       "    }\n",
       "\n",
       "    .dataframe tbody tr th {\n",
       "        vertical-align: top;\n",
       "    }\n",
       "\n",
       "    .dataframe thead th {\n",
       "        text-align: right;\n",
       "    }\n",
       "</style>\n",
       "<table border=\"1\" class=\"dataframe\">\n",
       "  <thead>\n",
       "    <tr style=\"text-align: right;\">\n",
       "      <th></th>\n",
       "      <th>ds</th>\n",
       "      <th>cutoff</th>\n",
       "      <th>y</th>\n",
       "      <th>AutoARIMA</th>\n",
       "      <th>AutoARIMA-lo-90</th>\n",
       "      <th>AutoARIMA-hi-90</th>\n",
       "    </tr>\n",
       "    <tr>\n",
       "      <th>unique_id</th>\n",
       "      <th></th>\n",
       "      <th></th>\n",
       "      <th></th>\n",
       "      <th></th>\n",
       "      <th></th>\n",
       "      <th></th>\n",
       "    </tr>\n",
       "  </thead>\n",
       "  <tbody>\n",
       "    <tr>\n",
       "      <th>Close price</th>\n",
       "      <td>2015-12-22</td>\n",
       "      <td>2015-12-21</td>\n",
       "      <td>38.491501</td>\n",
       "      <td>38.931385</td>\n",
       "      <td>37.997883</td>\n",
       "      <td>39.864887</td>\n",
       "    </tr>\n",
       "    <tr>\n",
       "      <th>Close price</th>\n",
       "      <td>2015-12-23</td>\n",
       "      <td>2015-12-22</td>\n",
       "      <td>37.842499</td>\n",
       "      <td>38.441433</td>\n",
       "      <td>37.508717</td>\n",
       "      <td>39.374149</td>\n",
       "    </tr>\n",
       "    <tr>\n",
       "      <th>Close price</th>\n",
       "      <td>2015-12-24</td>\n",
       "      <td>2015-12-23</td>\n",
       "      <td>38.040001</td>\n",
       "      <td>37.771404</td>\n",
       "      <td>36.838470</td>\n",
       "      <td>38.704334</td>\n",
       "    </tr>\n",
       "    <tr>\n",
       "      <th>Close price</th>\n",
       "      <td>2015-12-25</td>\n",
       "      <td>2015-12-24</td>\n",
       "      <td>38.356499</td>\n",
       "      <td>38.071392</td>\n",
       "      <td>37.139957</td>\n",
       "      <td>39.002823</td>\n",
       "    </tr>\n",
       "    <tr>\n",
       "      <th>Close price</th>\n",
       "      <td>2015-12-26</td>\n",
       "      <td>2015-12-25</td>\n",
       "      <td>38.425499</td>\n",
       "      <td>38.390244</td>\n",
       "      <td>37.460243</td>\n",
       "      <td>39.320244</td>\n",
       "    </tr>\n",
       "  </tbody>\n",
       "</table>\n",
       "</div>"
      ],
      "text/plain": [
       "                    ds     cutoff          y  AutoARIMA  AutoARIMA-lo-90  \\\n",
       "unique_id                                                                  \n",
       "Close price 2015-12-22 2015-12-21  38.491501  38.931385        37.997883   \n",
       "Close price 2015-12-23 2015-12-22  37.842499  38.441433        37.508717   \n",
       "Close price 2015-12-24 2015-12-23  38.040001  37.771404        36.838470   \n",
       "Close price 2015-12-25 2015-12-24  38.356499  38.071392        37.139957   \n",
       "Close price 2015-12-26 2015-12-25  38.425499  38.390244        37.460243   \n",
       "\n",
       "             AutoARIMA-hi-90  \n",
       "unique_id                     \n",
       "Close price        39.864887  \n",
       "Close price        39.374149  \n",
       "Close price        38.704334  \n",
       "Close price        39.002823  \n",
       "Close price        39.320244  "
      ]
     },
     "execution_count": 32,
     "metadata": {},
     "output_type": "execute_result"
    }
   ],
   "source": [
    "# Create forecast object and perform cross validation:\n",
    "fcst = StatsForecast(\n",
    "    df=google_train, \n",
    "    models=[AutoARIMA(season_length=season_length)], \n",
    "    freq=freq, \n",
    "    n_jobs=-1\n",
    ")\n",
    "forecasts_cv = fcst.cross_validation(h=horizon, n_windows=n_windows_cv, level=(90,)) \n",
    "forecasts_cv.head()"
   ]
  },
  {
   "cell_type": "code",
   "execution_count": 33,
   "metadata": {},
   "outputs": [
    {
     "data": {
      "text/plain": [
       "<AxesSubplot: title={'center': 'Cross-validation splits'}, xlabel='Index', ylabel='CV iteration'>"
      ]
     },
     "execution_count": 33,
     "metadata": {},
     "output_type": "execute_result"
    },
    {
     "data": {
      "image/png": "[encoded data removed]",
      "text/plain": [
       "<Figure size 640x480 with 1 Axes>"
      ]
     },
     "metadata": {},
     "output_type": "display_data"
    }
   ],
   "source": [
    "# Plot time series CV:\n",
    "time_cv_indices = [\n",
    "    (np.where(google_train.ds.values <= cutoff), np.where(google_train.ds.values == cutoff) + np.array(1)) \\\n",
    "    for cutoff in  forecasts_cv[\"cutoff\"]\n",
    "]\n",
    "\n",
    "fig, ax = plt.subplots()\n",
    "plot_cv_indices(time_cv_indices, google_train.shape[0], ax, n_windows_cv)"
   ]
  },
  {
   "cell_type": "markdown",
   "metadata": {},
   "source": [
    "The accuracy() function can be used to evaluate the forecasts accuracy across the training sets."
   ]
  },
  {
   "cell_type": "code",
   "execution_count": 34,
   "metadata": {},
   "outputs": [],
   "source": [
    "def accuracy(df_forecast, y_train_serie, seasonallity):\n",
    "\n",
    "    method = df_forecast.columns[2:]\n",
    "    rmse_results = []\n",
    "    mae_results = []\n",
    "    mape_results = []\n",
    "    mase_results = []\n",
    "\n",
    "    y = df_forecast.obs_values.values\n",
    "    y_hat_naive = df_forecast.naive_forecast.values\n",
    "    scale = np.abs(y_train_serie[:-seasonallity] - y_train_serie[seasonallity:])\n",
    "    scale = np.average(scale)\n",
    "\n",
    "    for i in method:\n",
    "\n",
    "        y_hat = df_forecast[i].values\n",
    "        d = y - y_hat\n",
    "        mae_f = np.mean(abs(d))\n",
    "        rmse_f = np.sqrt(np.mean(d**2))\n",
    "        mape = np.mean(np.abs((y - y_hat)/y))*100\n",
    "        mase = mae_f / scale\n",
    "        mae_results.append(np.round(mae_f,2))\n",
    "        rmse_results.append(np.round(rmse_f,2))\n",
    "        mape_results.append(np.round(mape,2))\n",
    "        mase_results.append(np.round(mase,2))\n",
    "\n",
    "    accuracy_df = pd.DataFrame({'Method':method,\n",
    "                    'RMSE':rmse_results,\n",
    "                    'MAE':mae_results,\n",
    "                    'MAPE':mape_results,\n",
    "                    'MASE':mase_results})\n",
    "\n",
    "    return accuracy_df"
   ]
  },
  {
   "cell_type": "code",
   "execution_count": 35,
   "metadata": {},
   "outputs": [],
   "source": [
    "# Since we are dealing with daily data, it would be benefitial to use 5 as seasonality.\n",
    "models = [AutoARIMA(season_length=5, approximation=True), Naive()]\n",
    "\n",
    "# Define the model, fit and predict:\n",
    "fcst = StatsForecast(df=google_train.iloc[0:-7], \n",
    "                     models=models,\n",
    "                     freq=\"D\",\n",
    "                     n_jobs=-1)\n",
    "\n",
    "# We can define the level of the forecast intervals we want to produce. StatsForecast will produce these levels:\n",
    "levels = [90]\n",
    "\n",
    "# The forecast function converts the forecast distributions into intervals:\n",
    "forecasts = fcst.forecast(h=10, level=levels)"
   ]
  },
  {
   "cell_type": "code",
   "execution_count": 36,
   "metadata": {},
   "outputs": [
    {
     "data": {
      "text/html": [
       "<div>\n",
       "<style scoped>\n",
       "    .dataframe tbody tr th:only-of-type {\n",
       "        vertical-align: middle;\n",
       "    }\n",
       "\n",
       "    .dataframe tbody tr th {\n",
       "        vertical-align: top;\n",
       "    }\n",
       "\n",
       "    .dataframe thead th {\n",
       "        text-align: right;\n",
       "    }\n",
       "</style>\n",
       "<table border=\"1\" class=\"dataframe\">\n",
       "  <thead>\n",
       "    <tr style=\"text-align: right;\">\n",
       "      <th></th>\n",
       "      <th>Method</th>\n",
       "      <th>RMSE</th>\n",
       "      <th>MAE</th>\n",
       "      <th>MAPE</th>\n",
       "      <th>MASE</th>\n",
       "    </tr>\n",
       "  </thead>\n",
       "  <tbody>\n",
       "    <tr>\n",
       "      <th>0</th>\n",
       "      <td>Cross-validation</td>\n",
       "      <td>0.45</td>\n",
       "      <td>0.39</td>\n",
       "      <td>1.01</td>\n",
       "      <td>1.07</td>\n",
       "    </tr>\n",
       "    <tr>\n",
       "      <th>1</th>\n",
       "      <td>Training</td>\n",
       "      <td>0.84</td>\n",
       "      <td>0.65</td>\n",
       "      <td>1.66</td>\n",
       "      <td>1.76</td>\n",
       "    </tr>\n",
       "  </tbody>\n",
       "</table>\n",
       "</div>"
      ],
      "text/plain": [
       "             Method  RMSE   MAE  MAPE  MASE\n",
       "0  Cross-validation  0.45  0.39  1.01  1.07\n",
       "1          Training  0.84  0.65  1.66  1.76"
      ]
     },
     "execution_count": 36,
     "metadata": {},
     "output_type": "execute_result"
    }
   ],
   "source": [
    "# Create a dataframe with the values predicted:\n",
    "forecasts_df = pd.DataFrame({'ds':forecasts_cv.ds,\n",
    "                        'obs_values':forecasts_cv['y'],\n",
    "                        'Cross-validation':forecasts_cv['AutoARIMA'],\n",
    "                        'Training':forecasts['AutoARIMA'],\n",
    "                        'naive_forecast':forecasts['Naive']})\n",
    "\n",
    "accuracy_df = accuracy(forecasts_df, google_train.y.values, 1)\n",
    "accuracy_df.head(2)"
   ]
  },
  {
   "cell_type": "markdown",
   "metadata": {},
   "source": [
    "As expected, the accuracy measures from the residuals are smaller, as the corresponding “forecasts” are based on a model fitted to the entire data set, rather than being true forecasts.\n",
    "\n",
    "A good way to choose the best forecasting model is to find the model with the smallest RMSE computed using time series cross-validation.\n",
    "\n",
    "## Example: Forecast horizon accuracy with cross-validation\n",
    "\n",
    "The google_2015 subset of the gafa_stock data, plotted in Figure 5.9, includes daily closing stock price of Google Inc from the NASDAQ exchange for all trading days in 2015.\n",
    "\n",
    "The code below evaluates the forecasting performance of 1- to 8-step-ahead drift forecasts. The plot shows that the forecast error increases as the forecast horizon increases, as we would expect."
   ]
  },
  {
   "cell_type": "code",
   "execution_count": 37,
   "metadata": {},
   "outputs": [
    {
     "data": {
      "text/plain": [
       "'Forecast horizon accuracy with cross-validation example'"
      ]
     },
     "execution_count": 37,
     "metadata": {},
     "output_type": "execute_result"
    }
   ],
   "source": [
    "'Forecast horizon accuracy with cross-validation example'"
   ]
  }
 ],
 "metadata": {
  "kernelspec": {
   "display_name": ".venv",
   "language": "python",
   "name": "python3"
  },
  "language_info": {
   "codemirror_mode": {
    "name": "ipython",
    "version": 3
   },
   "file_extension": ".py",
   "mimetype": "text/x-python",
   "name": "python",
   "nbconvert_exporter": "python",
   "pygments_lexer": "ipython3",
   "version": "3.12.8"
  },
  "orig_nbformat": 4
 },
 "nbformat": 4,
 "nbformat_minor": 2
}
