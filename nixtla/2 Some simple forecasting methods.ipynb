{
 "cells": [
  {
   "cell_type": "markdown",
   "metadata": {},
   "source": [
    "## 2 Some simple forecasting methods\n",
    "***\n",
    "Some forecasting methods are extremely simple and surprisingly effective. We will use four simple forecasting methods as benchmarks throughout this book. To illustrate them, we will use quarterly Australian clay brick production between 1970 and 2004."
   ]
  },
  {
   "cell_type": "code",
   "execution_count": null,
   "metadata": {},
   "outputs": [],
   "source": [
    "# Import the libraries that we are going to use for the analysis:\n",
    "import pandas as pd\n",
    "import polars as pl\n",
    "\n",
    "from statsforecast import StatsForecast\n",
    "from statsforecast.models import *\n",
    "from utilsforecast.plotting import plot_series\n",
    "\n",
    "import matplotlib.pyplot as plt"
   ]
  },
  {
   "cell_type": "code",
   "execution_count": null,
   "metadata": {},
   "outputs": [],
   "source": [
    "# Create a dataframe from a csv file:\n",
    "df = pl.read_csv(\n",
    "    \"../Assets/aus-production.csv\", separator=\";\", infer_schema_length=1000\n",
    ")\n",
    "df = df.filter(\n",
    "    pl.col(\"Quarter\").is_between(pl.lit(\"1970 Q1\"), pl.lit(\"2004 Q4\"))\n",
    ").with_columns(\n",
    "    pl.date_range(\n",
    "        start=pl.lit(\"1970-01-01\"), end=pl.lit(\"2004-12-31\"), interval=\"1Q\"\n",
    "    ).alias(\"ds\"),\n",
    "    pl.lit(1).alias(\"unique_id\"),\n",
    ")\n",
    "\n",
    "bricks = df.select(\"unique_id\", \"ds\", pl.col(\"Bricks\").cast(pl.Int16).alias(\"y\"))\n"
   ]
  },
  {
   "cell_type": "markdown",
   "metadata": {},
   "source": [
    "## Mean method\n",
    "\n",
    "Here, the forecasts of all future values are equal to the average (or “mean”) of the historical data. If we let the historical data be denoted by $y_{1},...,y_{T}$, then we can write the forecasts as\n",
    "\n",
    "\\begin{gather*} \n",
    "\\hat{y}_{T+h|T}=\\bar{y}=(y_{1}+⋯+y_{T})/T\n",
    "\\end{gather*}\n",
    "\n",
    "The notation $\\hat{y}_{T+h|T}$ is a short-hand for the estimate of $y_{T+h}$ based on the data $y_{1},...,y_{T}$\n",
    "\n",
    "\n",
    "\n"
   ]
  },
  {
   "cell_type": "code",
   "execution_count": null,
   "metadata": {},
   "outputs": [],
   "source": [
    "# HistoricAverage's usage example:\n",
    "from statsforecast.models import HistoricAverage\n",
    "\n",
    "model = StatsForecast(\n",
    "    models=[HistoricAverage()],\n",
    "    freq=\"1q\",\n",
    "    n_jobs=-1,\n",
    ")\n",
    "model = model.fit(df=bricks)\n",
    "y_hat = model.predict(h=20)"
   ]
  },
  {
   "cell_type": "code",
   "execution_count": null,
   "metadata": {},
   "outputs": [],
   "source": [
    "fig = plot_series(bricks, forecasts_df=y_hat, engine=\"plotly\")\n",
    "fig.update_layout(\n",
    "    title=\"Clay bricks production in Australia\",\n",
    ")"
   ]
  },
  {
   "cell_type": "markdown",
   "metadata": {},
   "source": [
    "<p style=\"text-align: center;\">\n",
    "Figure 3: Mean (or average) forecasts applied to clay brick production in Australia.\n",
    "</p>"
   ]
  },
  {
   "cell_type": "markdown",
   "metadata": {},
   "source": [
    "## Naïve method\n",
    "\n",
    "For naïve forecasts, we simply set all forecasts to be the value of the last observation. That is,\n",
    "\n",
    "\\begin{gather*} \n",
    "\\hat{y}_{T+h|T}=y_{T}\n",
    "\\end{gather*}\n",
    "\n",
    "This method works remarkably well for many economic and financial time series."
   ]
  },
  {
   "cell_type": "code",
   "execution_count": null,
   "metadata": {},
   "outputs": [],
   "source": [
    "# HistoricAverage's usage example:\n",
    "model = StatsForecast(\n",
    "    models=[Naive()],\n",
    "    freq=\"1q\",\n",
    "    n_jobs=-1,\n",
    ")\n",
    "model = model.fit(df=bricks)\n",
    "y_hat = model.predict(h=20)\n",
    "fig = plot_series(bricks, forecasts_df=y_hat, engine=\"plotly\")\n",
    "fig.update_layout(\n",
    "    title=\"Clay bricks production in Australia\",\n",
    ")"
   ]
  },
  {
   "cell_type": "markdown",
   "metadata": {},
   "source": [
    "<p style=\"text-align: center;\">\n",
    "Figure 4: Naïve forecasts applied to clay brick production in Australia.\n",
    "</p>"
   ]
  },
  {
   "cell_type": "markdown",
   "metadata": {},
   "source": [
    "Because a naïve forecast is optimal when data follow a random walk, these are also called random walk forecasts and the random walk model can be used instead of `NAIVE`.\n",
    "\n",
    "## Seasonal naïve method\n",
    "\n",
    "A similar method is useful for highly seasonal data. In this case, we set each forecast to be equal to the last observed value from the same season (e.g., the same month of the previous year). Formally, the forecast for time  $T+h$ is written as\n",
    "\n",
    "\\begin{gather*} \n",
    "\\hat{y}_{T+h|T}=y_{T+h-m(k+1)}\n",
    "\\end{gather*}\n",
    "\n",
    "where $m=$ the seasonal period, and $k$ is the integer part of  $(h−1)/m$ (i.e., the number of complete years in the forecast period prior to time $T+h)$. This looks more complicated than it really is. For example, with monthly data, the forecast for all future February values is equal to the last observed February value. With quarterly data, the forecast of all future Q2 values is equal to the last observed Q2 value (where Q2 means the second quarter). Similar rules apply for other months and quarters, and for other seasonal periods."
   ]
  },
  {
   "cell_type": "code",
   "execution_count": null,
   "metadata": {},
   "outputs": [],
   "source": [
    "# HistoricAverage's usage example:\n",
    "model = StatsForecast(\n",
    "    models=[SeasonalNaive(season_length=4)],\n",
    "    freq=\"1q\",\n",
    "    n_jobs=-1,\n",
    ")\n",
    "model = model.fit(df=bricks)\n",
    "y_hat = model.predict(h=20)\n",
    "fig = plot_series(bricks, forecasts_df=y_hat, engine=\"plotly\")\n",
    "fig.update_layout(\n",
    "    title=\"Clay bricks production in Australia\",\n",
    ")"
   ]
  },
  {
   "cell_type": "markdown",
   "metadata": {},
   "source": [
    "<p style=\"text-align: center;\">\n",
    "Figure 5: Seasonal naïve forecasts applied to clay brick production in Australia.\n",
    "</p>"
   ]
  },
  {
   "cell_type": "markdown",
   "metadata": {},
   "source": [
    "## Drift method\n",
    "\n",
    "A variation on the naïve method is to allow the forecasts to increase or decrease over time, where the amount of change over time (called the drift) is set to be the average change seen in the historical data. Thus the forecast for time $T+h$ is given by\n",
    "\n",
    "\\begin{gather*} \n",
    "\\hat{y}_{T+h|T}=y_{T}+\\frac{h}{T-1}\\sum_{t=2}^{T}(y_{t}-y_{t-1})=y_{T}+h\\frac{y_{T}-y_{1}}{T-1}\n",
    "\\end{gather*}\n",
    "\n",
    "This is equivalent to drawing a line between the first and last observations, and extrapolating it into the future."
   ]
  },
  {
   "cell_type": "code",
   "execution_count": null,
   "metadata": {},
   "outputs": [],
   "source": [
    "# HistoricAverage's usage example:\n",
    "model = StatsForecast(\n",
    "    models=[RandomWalkWithDrift()],\n",
    "    freq=\"1q\",\n",
    "    n_jobs=-1,\n",
    ")\n",
    "model = model.fit(df=bricks)\n",
    "y_hat = model.predict(h=20)\n",
    "fig = plot_series(bricks, forecasts_df=y_hat, engine=\"plotly\")\n",
    "fig.update_layout(\n",
    "    title=\"Clay bricks production in Australia\",\n",
    ")"
   ]
  },
  {
   "cell_type": "markdown",
   "metadata": {},
   "source": [
    "<p style=\"text-align: center;\">\n",
    "Figure 6: Drift forecasts applied to clay brick production in Australia.\n",
    "</p>"
   ]
  },
  {
   "cell_type": "markdown",
   "metadata": {},
   "source": [
    "## Example: Australian quarterly beer production\n",
    "\n",
    "Figure 7 shows the first three methods applied to Australian quarterly beer production from 1992 to 2006, with the forecasts compared against actual values in the next 3.5 years."
   ]
  },
  {
   "cell_type": "code",
   "execution_count": null,
   "metadata": {},
   "outputs": [],
   "source": [
    "beer = df.select(\"unique_id\", \"ds\", pl.col(\"Beer\").cast(pl.Int16).alias(\"y\"))"
   ]
  },
  {
   "cell_type": "code",
   "execution_count": null,
   "metadata": {},
   "outputs": [],
   "source": [
    "# HistoricAverage's usage example:\n",
    "model = StatsForecast(\n",
    "    models=[Naive(), SeasonalNaive(season_length=4), RandomWalkWithDrift()],\n",
    "    freq=\"1q\",\n",
    "    n_jobs=-1,\n",
    ")\n",
    "model = model.fit(df=beer)\n",
    "y_hat = model.predict(h=20)\n",
    "fig = plot_series(beer, forecasts_df=y_hat, engine=\"plotly\")\n",
    "fig.update_layout(\n",
    "    title=\"Beer production in Australia\",\n",
    ")"
   ]
  },
  {
   "cell_type": "markdown",
   "metadata": {},
   "source": [
    "<p style=\"text-align: center;\">\n",
    "Figure 7: Forecasts of Australian quarterly beer production.\n",
    "</p>"
   ]
  },
  {
   "cell_type": "markdown",
   "metadata": {},
   "source": [
    "In this case, only the seasonal naïve forecasts are close to the observed values from 2007 onwards.\n",
    "\n",
    "## Example: Google’s daily closing stock price\n",
    "\n",
    "In Figure 8, the non-seasonal methods are applied to Google’s daily closing stock price in 2015, and used to forecast one month ahead. Because stock prices are not observed every day, we first set up a new time index based on the trading days rather than calendar days."
   ]
  },
  {
   "cell_type": "code",
   "execution_count": null,
   "metadata": {},
   "outputs": [],
   "source": [
    "# Create a dataframe from a csv file:\n",
    "google_stock = pl.read_csv(\"../Assets/GOOGL.csv\").with_columns(\n",
    "    pl.lit(1).alias(\"unique_id\")\n",
    ")\n",
    "\n",
    "google_stock.head()"
   ]
  },
  {
   "cell_type": "code",
   "execution_count": null,
   "metadata": {},
   "outputs": [],
   "source": [
    "# Filter the year of interest:\n",
    "google_2015 = (\n",
    "    google_stock.filter(pl.col(\"Date\").le(\"2015-12-31\"))\n",
    "    .with_columns(pl.col(\"Date\").str.to_datetime(\"%Y-%m-%d\").alias(\"ds\"))\n",
    "    .drop(\"Date\")\n",
    ")\n",
    "google_2016 = google_stock.filter(pl.col(\"Date\").gt(\"2015-12-31\")).with_columns(\n",
    "    pl.col(\"Date\").str.to_datetime(\"%Y-%m-%d\").alias(\"ds\")\n",
    ")\n",
    "\n",
    "google_2015.head()"
   ]
  },
  {
   "cell_type": "code",
   "execution_count": null,
   "metadata": {},
   "outputs": [],
   "source": [
    "# HistoricAverage's usage example:\n",
    "model = StatsForecast(\n",
    "    models=[\n",
    "        HistoricAverage(),\n",
    "        Naive(),\n",
    "        SeasonalNaive(season_length=4),\n",
    "        RandomWalkWithDrift(),\n",
    "    ],\n",
    "    freq=\"1d\",\n",
    "    n_jobs=-1,\n",
    ")\n",
    "model = model.fit(\n",
    "    df=google_2015,\n",
    "    time_col=\"ds\",\n",
    "    target_col=\"Close\",\n",
    ")\n",
    "y_hat = model.predict(h=len(google_2016))\n",
    "fig = plot_series(\n",
    "    google_2015,\n",
    "    forecasts_df=y_hat,\n",
    "    engine=\"plotly\",\n",
    "    target_col=\"Close\",\n",
    ")\n",
    "fig.update_layout(\n",
    "    title=\"Beer production in Australia\",\n",
    ")"
   ]
  },
  {
   "cell_type": "markdown",
   "metadata": {},
   "source": [
    "<p style=\"text-align: center;\">\n",
    "Figure 8: Forecasts based on Google’s daily closing stock price in 2015.\n",
    "</p>"
   ]
  },
  {
   "cell_type": "markdown",
   "metadata": {},
   "source": [
    "Sometimes one of these simple methods will be the best forecasting method available; but in many cases, these methods will serve as benchmarks rather than the method of choice. That is, any forecasting methods we develop will be compared to these simple methods to ensure that the new method is better than these simple alternatives. If not, the new method is not worth considering."
   ]
  }
 ],
 "metadata": {
  "kernelspec": {
   "display_name": ".venv",
   "language": "python",
   "name": "python3"
  },
  "language_info": {
   "codemirror_mode": {
    "name": "ipython",
    "version": 3
   },
   "file_extension": ".py",
   "mimetype": "text/x-python",
   "name": "python",
   "nbconvert_exporter": "python",
   "pygments_lexer": "ipython3",
   "version": "3.12.8"
  },
  "orig_nbformat": 4
 },
 "nbformat": 4,
 "nbformat_minor": 2
}
