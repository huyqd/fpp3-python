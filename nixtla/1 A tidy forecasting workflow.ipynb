{
 "cells": [
  {
   "cell_type": "markdown",
   "metadata": {},
   "source": [
    "## 1. A tidy forecasting workflow\n",
    "***\n",
    "\n",
    "The process of producing forecasts for time series data can be broken down into a few steps.\n",
    "\n",
    "![workflow-1](https://raw.githubusercontent.com/Nixtla/fpp3/main/Assets/workflow-1.png)\n",
    "\n",
    "<img src=\"https://raw.githubusercontent.com/Nixtla/fpp3/main/Assets/workflow-1.png\" alt=\"workflow\" />\n",
    "\n",
    "\n",
    "To illustrate the process, we will fit a ETS model to national GDP data stored in `global_economy`\n",
    "\n",
    "## Data preparation (tidy)\n",
    "\n",
    "The first step in forecasting is to prepare data in the correct format. This process may involve loading in data, identifying missing values, filtering the time series, and other pre-processing tasks. *Multiple pandas functions can be useful for this stage*\n",
    "\n",
    "Many models have different data requirements; some require the series to be in time order, others require no missing values. Checking your data is an essential step to understanding its features and should always be done before models are estimated.\n",
    "\n",
    "We will model GDP per capita over time; so first, we must compute the relevant variable."
   ]
  },
  {
   "cell_type": "code",
   "execution_count": null,
   "metadata": {},
   "outputs": [],
   "source": [
    "# Import the libraries that we are going to use for the analysis:\n",
    "import polars as pl\n",
    "from utilsforecast.plotting import plot_series"
   ]
  },
  {
   "cell_type": "code",
   "execution_count": null,
   "metadata": {},
   "outputs": [],
   "source": [
    "# Create a dataframe from a csv file\n",
    "df = pl.read_csv(\"Assets/global_economy_data.csv\", separator=\";\").with_columns(\n",
    "    pl.lit(1).alias(\"unique_id\")\n",
    ")\n",
    "\n",
    "df.head()"
   ]
  },
  {
   "cell_type": "markdown",
   "metadata": {},
   "source": [
    "## Plot the data (visualise)\n",
    "\n",
    "As we have seen in Chapter 2, visualisation is an essential step in understanding the data. Looking at your data allows you to identify common patterns, and subsequently specify an appropriate model.\n",
    "\n",
    "The data for one country in our example are plotted the next Figure:"
   ]
  },
  {
   "cell_type": "code",
   "execution_count": null,
   "metadata": {},
   "outputs": [],
   "source": [
    "plot_series(df, time_col=\"Year\", target_col=\"Sweden_gdp_per_cap\", engine=\"plotly\")"
   ]
  },
  {
   "cell_type": "markdown",
   "metadata": {},
   "source": [
    "<p style=\"text-align: center;\">\n",
    "Figure 1: GDP per capita data for Sweden from 1960 to 2017.\n",
    "</p>"
   ]
  },
  {
   "cell_type": "markdown",
   "metadata": {},
   "source": [
    "## Define a model (specify)\n",
    "\n",
    "There are many different time series models that can be used for forecasting, and much of this book is dedicated to describing various models. Specifying an appropriate model for the data is essential for producing appropriate forecasts.\n",
    "\n",
    "*For example, it´s possible to use an `ETS model` to study the time series of GDP per capita.*\n",
    "\n",
    "*The exponential smoothing (ETS) algorithm is especially suited for data with seasonality and trend. ETS computes a weighted average over all observations in the input time series dataset as its prediction. In contrast to moving average methods with constant weights, ETS weights exponentially decrease over time, capturing long term dependencies while prioritizing new observations.*"
   ]
  },
  {
   "cell_type": "code",
   "execution_count": null,
   "metadata": {},
   "outputs": [],
   "source": [
    "# Import the model that we are going to use:\n",
    "from statsforecast.models import AutoETS\n",
    "from statsforecast import StatsForecast"
   ]
  },
  {
   "cell_type": "markdown",
   "metadata": {},
   "source": [
    "*AutoETS model Automatically selects the best ETS (Error, Trend, Seasonality) model using an information criterion. Default is Akaike Information Criterion (AICc), while particular models are estimated using maximum likelihood. The state-space equations can be determined based on their `M` multiplicative, `A` additive, `Z` optimized or `N` ommited components. The model string parameter defines the ETS equations: E in `[M A Z]`, T in `[N A M Z]`, and S in `[N A M Z]`.*\n",
    "\n",
    "*For example when model=‘ANN’ (additive error, no trend, and no seasonality), ETS will explore only a simple exponential smoothing.*\n",
    "\n",
    "*If the component is selected as ‘Z’, it operates as a placeholder to ask the AutoETS model to figure out the best parameter.*"
   ]
  },
  {
   "cell_type": "markdown",
   "metadata": {},
   "source": [
    "## Train the model (estimate)\n",
    "\n",
    "Once an appropriate model is specified, we next train the model on some data. To estimate the model in our example, we use:"
   ]
  },
  {
   "cell_type": "code",
   "execution_count": null,
   "metadata": {},
   "outputs": [],
   "source": [
    "model = StatsForecast(\n",
    "    models=[AutoETS(model=\"ZMZ\")],\n",
    "    freq=1,\n",
    ")"
   ]
  },
  {
   "cell_type": "code",
   "execution_count": null,
   "metadata": {},
   "outputs": [],
   "source": [
    "model.fit(df, id_col=\"unique_id\", time_col=\"Year\", target_col=\"Sweden_gdp_per_cap\")"
   ]
  },
  {
   "cell_type": "markdown",
   "metadata": {},
   "source": [
    "This fits a ETS model to the GDP per capita data for Sweden "
   ]
  },
  {
   "cell_type": "markdown",
   "metadata": {},
   "source": [
    "## Check model performance (evaluate)\n",
    "\n",
    "Once a model has been fitted, it is important to check how well it has performed on the data. There are several diagnostic tools available to check model behaviour, and also accuracy measures that allow one model to be compared against another. Sections 8 and 9 go into further details.\n",
    "\n",
    "## Produce forecasts (forecast)\n",
    "\n",
    "With an appropriate model specified, estimated and checked, it is time to produce the forecasts using `.predict()`. The easiest way to use this function is by specifying the number of future observations to forecast. For example, forecasts for the next 10 observations can be generated using `h = 10`. We can also use natural language; e.g., `h = \"2 years\"` can be used to predict two years into the future.\n",
    "\n",
    "In other situations, it may be more convenient to provide a dataset of future time periods to forecast. This is commonly required when your model uses additional information from the data, such as exogenous regressors. Additional data required by the model can be included in the dataset of observations to forecast."
   ]
  },
  {
   "cell_type": "code",
   "execution_count": null,
   "metadata": {},
   "outputs": [],
   "source": [
    "# Make predictions with ETS model:\n",
    "y_hat = model.predict(h=3)\n",
    "y_hat"
   ]
  },
  {
   "cell_type": "markdown",
   "metadata": {},
   "source": [
    "The forecasts can be plotted along with the historical data using matplotlib as follows:"
   ]
  },
  {
   "cell_type": "code",
   "execution_count": null,
   "metadata": {},
   "outputs": [],
   "source": [
    "plot_series(\n",
    "    df,\n",
    "    forecasts_df=y_hat,\n",
    "    time_col=\"Year\",\n",
    "    target_col=\"Sweden_gdp_per_cap\",\n",
    "    engine=\"plotly\",\n",
    ")"
   ]
  },
  {
   "cell_type": "markdown",
   "metadata": {},
   "source": [
    "<p style=\"text-align: center;\">\n",
    "Figure 2: Forecasts of GDP per capita for Sweden using a simple trend model.\n",
    "</p>"
   ]
  }
 ],
 "metadata": {
  "kernelspec": {
   "display_name": ".venv",
   "language": "python",
   "name": "python3"
  },
  "language_info": {
   "codemirror_mode": {
    "name": "ipython",
    "version": 3
   },
   "file_extension": ".py",
   "mimetype": "text/x-python",
   "name": "python",
   "nbconvert_exporter": "python",
   "pygments_lexer": "ipython3",
   "version": "3.12.8"
  },
  "orig_nbformat": 4
 },
 "nbformat": 4,
 "nbformat_minor": 2
}
