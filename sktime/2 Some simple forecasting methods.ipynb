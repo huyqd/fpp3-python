{
 "cells": [
  {
   "cell_type": "markdown",
   "metadata": {},
   "source": [
    "## 2 Some simple forecasting methods\n",
    "***\n",
    "Some forecasting methods are extremely simple and surprisingly effective. We will use four simple forecasting methods as benchmarks throughout this book. To illustrate them, we will use quarterly Australian clay brick production between 1970 and 2004."
   ]
  },
  {
   "cell_type": "code",
   "execution_count": null,
   "metadata": {},
   "outputs": [],
   "source": [
    "# Import the libraries that we are going to use for the analysis:\n",
    "import pandas as pd\n",
    "import polars as pl\n",
    "\n",
    "from sktime.utils import plot_series\n",
    "\n",
    "import matplotlib.pyplot as plt"
   ]
  },
  {
   "cell_type": "code",
   "execution_count": null,
   "metadata": {},
   "outputs": [],
   "source": []
  },
  {
   "cell_type": "code",
   "execution_count": null,
   "metadata": {},
   "outputs": [],
   "source": [
    "# Create a dataframe from a csv file:\n",
    "df = pl.read_csv(\n",
    "    \"../Assets/aus-production.csv\", separator=\";\", infer_schema_length=1000\n",
    ")\n",
    "df = df.filter(pl.col(\"Quarter\").is_between(pl.lit(\"1970 Q1\"), pl.lit(\"2004 Q4\")))\n",
    "\n",
    "bricks = (\n",
    "    df.select(pl.col(\"Bricks\").cast(pl.Int16).alias(\"y\"))\n",
    "    .to_pandas()\n",
    "    .set_index(pd.date_range(start=\"1970-01-01\", end=\"2004-12-31\", freq=\"QE\"))\n",
    ")\n"
   ]
  },
  {
   "cell_type": "markdown",
   "metadata": {},
   "source": [
    "## Mean method\n",
    "\n",
    "Here, the forecasts of all future values are equal to the average (or “mean”) of the historical data. If we let the historical data be denoted by $y_{1},...,y_{T}$, then we can write the forecasts as\n",
    "\n",
    "\\begin{gather*} \n",
    "\\hat{y}_{T+h|T}=\\bar{y}=(y_{1}+⋯+y_{T})/T\n",
    "\\end{gather*}\n",
    "\n",
    "The notation $\\hat{y}_{T+h|T}$ is a short-hand for the estimate of $y_{T+h}$ based on the data $y_{1},...,y_{T}$\n",
    "\n",
    "\n",
    "\n"
   ]
  },
  {
   "cell_type": "code",
   "execution_count": null,
   "metadata": {},
   "outputs": [],
   "source": [
    "# HistoricAverage's usage example:\n",
    "from sktime.forecasting.naive import NaiveForecaster\n",
    "\n",
    "model = NaiveForecaster(strategy=\"mean\", sp=None)\n",
    "model = model.fit(y=bricks)\n",
    "y_hat = model.predict(fh=range(1, 21))"
   ]
  },
  {
   "cell_type": "code",
   "execution_count": null,
   "metadata": {},
   "outputs": [],
   "source": [
    "fig, ax = plot_series(bricks, y_hat)"
   ]
  },
  {
   "cell_type": "markdown",
   "metadata": {},
   "source": [
    "<p style=\"text-align: center;\">\n",
    "Figure 3: Mean (or average) forecasts applied to clay brick production in Australia.\n",
    "</p>"
   ]
  },
  {
   "cell_type": "markdown",
   "metadata": {},
   "source": [
    "## Naïve method\n",
    "\n",
    "For naïve forecasts, we simply set all forecasts to be the value of the last observation. That is,\n",
    "\n",
    "\\begin{gather*} \n",
    "\\hat{y}_{T+h|T}=y_{T}\n",
    "\\end{gather*}\n",
    "\n",
    "This method works remarkably well for many economic and financial time series."
   ]
  },
  {
   "cell_type": "code",
   "execution_count": null,
   "metadata": {},
   "outputs": [],
   "source": [
    "# HistoricAverage's usage example:\n",
    "from sktime.forecasting.naive import NaiveForecaster\n",
    "\n",
    "model = NaiveForecaster(strategy=\"last\", sp=1)\n",
    "model = model.fit(y=bricks)\n",
    "y_hat = model.predict(fh=range(1, 21))\n",
    "fig, ax = plot_series(bricks, y_hat)"
   ]
  },
  {
   "cell_type": "markdown",
   "metadata": {},
   "source": [
    "<p style=\"text-align: center;\">\n",
    "Figure 4: Naïve forecasts applied to clay brick production in Australia.\n",
    "</p>"
   ]
  },
  {
   "cell_type": "markdown",
   "metadata": {},
   "source": [
    "Because a naïve forecast is optimal when data follow a random walk, these are also called random walk forecasts and the random walk model can be used instead of `NAIVE`.\n",
    "\n",
    "## Seasonal naïve method\n",
    "\n",
    "A similar method is useful for highly seasonal data. In this case, we set each forecast to be equal to the last observed value from the same season (e.g., the same month of the previous year). Formally, the forecast for time  $T+h$ is written as\n",
    "\n",
    "\\begin{gather*} \n",
    "\\hat{y}_{T+h|T}=y_{T+h-m(k+1)}\n",
    "\\end{gather*}\n",
    "\n",
    "where $m=$ the seasonal period, and $k$ is the integer part of  $(h−1)/m$ (i.e., the number of complete years in the forecast period prior to time $T+h)$. This looks more complicated than it really is. For example, with monthly data, the forecast for all future February values is equal to the last observed February value. With quarterly data, the forecast of all future Q2 values is equal to the last observed Q2 value (where Q2 means the second quarter). Similar rules apply for other months and quarters, and for other seasonal periods."
   ]
  },
  {
   "cell_type": "code",
   "execution_count": null,
   "metadata": {},
   "outputs": [],
   "source": [
    "# HistoricAverage's usage example:\n",
    "from sktime.forecasting.naive import NaiveForecaster\n",
    "\n",
    "model = NaiveForecaster(strategy=\"last\", sp=4)\n",
    "model = model.fit(y=bricks)\n",
    "y_hat = model.predict(fh=range(1, 21))\n",
    "fig, ax = plot_series(bricks, y_hat)"
   ]
  },
  {
   "cell_type": "markdown",
   "metadata": {},
   "source": [
    "<p style=\"text-align: center;\">\n",
    "Figure 5: Seasonal naïve forecasts applied to clay brick production in Australia.\n",
    "</p>"
   ]
  },
  {
   "cell_type": "markdown",
   "metadata": {},
   "source": [
    "## Drift method\n",
    "\n",
    "A variation on the naïve method is to allow the forecasts to increase or decrease over time, where the amount of change over time (called the drift) is set to be the average change seen in the historical data. Thus the forecast for time $T+h$ is given by\n",
    "\n",
    "\\begin{gather*} \n",
    "\\hat{y}_{T+h|T}=y_{T}+\\frac{h}{T-1}\\sum_{t=2}^{T}(y_{t}-y_{t-1})=y_{T}+h\\frac{y_{T}-y_{1}}{T-1}\n",
    "\\end{gather*}\n",
    "\n",
    "This is equivalent to drawing a line between the first and last observations, and extrapolating it into the future."
   ]
  },
  {
   "cell_type": "code",
   "execution_count": null,
   "metadata": {},
   "outputs": [],
   "source": [
    "# HistoricAverage's usage example:\n",
    "from sktime.forecasting.naive import NaiveForecaster\n",
    "\n",
    "model = NaiveForecaster(strategy=\"drift\", window_length=100)\n",
    "model = model.fit(y=bricks)\n",
    "y_hat = model.predict(fh=range(1, 21))\n",
    "fig, ax = plot_series(bricks, y_hat)"
   ]
  },
  {
   "cell_type": "markdown",
   "metadata": {},
   "source": [
    "<p style=\"text-align: center;\">\n",
    "Figure 6: Drift forecasts applied to clay brick production in Australia.\n",
    "</p>"
   ]
  }
 ],
 "metadata": {
  "kernelspec": {
   "display_name": ".venv",
   "language": "python",
   "name": "python3"
  },
  "language_info": {
   "codemirror_mode": {
    "name": "ipython",
    "version": 3
   },
   "file_extension": ".py",
   "mimetype": "text/x-python",
   "name": "python",
   "nbconvert_exporter": "python",
   "pygments_lexer": "ipython3",
   "version": "3.12.8"
  },
  "orig_nbformat": 4
 },
 "nbformat": 4,
 "nbformat_minor": 2
}
